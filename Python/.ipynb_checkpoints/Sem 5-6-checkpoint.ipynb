{
 "cells": [
  {
   "cell_type": "code",
   "execution_count": 3,
   "metadata": {},
   "outputs": [
    {
     "name": "stdout",
     "output_type": "stream",
     "text": [
      "28\n",
      "28\n"
     ]
    }
   ],
   "source": [
    "\n",
    "def func (x):\n",
    "    if x == 0:\n",
    "        return x\n",
    "    return x + func (x-1)\n",
    "print (func (7))\n",
    "\n",
    "summa = 0\n",
    "for i in range (8):\n",
    "    summa += i\n",
    "print (summa)"
   ]
  },
  {
   "cell_type": "code",
   "execution_count": 5,
   "metadata": {},
   "outputs": [
    {
     "name": "stdout",
     "output_type": "stream",
     "text": [
      "8\n"
     ]
    }
   ],
   "source": [
    "# Семинар 5. Задача 31\n",
    "'''Последовательностью Фибоначчи называется\n",
    "последовательность чисел a0, a1, ..., an, ..., где\n",
    "a0 = 0, a1 = 1, ak = ak-1 + ak-2 (k > 1).\n",
    "Требуется найти N-е число Фибоначчи'''\n",
    "\n",
    "def Fib (n):\n",
    "    if n == 1:\n",
    "        return 1\n",
    "    elif n == 0:\n",
    "        return 0\n",
    "    return (Fib (n-1) + Fib (n-2))\n",
    "\n",
    "n = int (input ('Введите число: '))\n",
    "print (Fib (n))\n"
   ]
  },
  {
   "cell_type": "code",
   "execution_count": null,
   "metadata": {},
   "outputs": [],
   "source": [
    "# Семинар 5. Задача 33\n",
    "'''Хакер Василий получил доступ к классному журналу и\n",
    "хочет заменить все свои минимальные оценки на максимальные.\n",
    "Напишите программу, которая заменяет оценки Василия, но\n",
    "наоборот: все максимальные – на минимальные.'''\n",
    "\n",
    "mass = [1,2,3,4,5,5,4,3,2]\n",
    "mn = min (mass)\n",
    "mx = max (mass)\n",
    "for e in range (len (mass)):\n",
    "    if mass [e] == mx:\n",
    "        mass [e] = mn\n",
    "print (mass)"
   ]
  },
  {
   "cell_type": "code",
   "execution_count": 1,
   "metadata": {},
   "outputs": [
    {
     "name": "stdout",
     "output_type": "stream",
     "text": [
      "(True, 17)\n",
      "(True, 71)\n"
     ]
    }
   ],
   "source": [
    "def is_simple (number: int) -> bool:\n",
    "    count = 0\n",
    "    if number % 2 == 0:\n",
    "        return False\n",
    "    elif number in [1,2,3]:\n",
    "        return True\n",
    "    else: \n",
    "        for div in range (3, number // 2 + 1, 2):\n",
    "            if number % div == 0:\n",
    "                return False\n",
    "            count += 1\n",
    "    return True, count\n",
    "\n",
    "def is_very_simple (number):\n",
    "    count = 0\n",
    "    for div in range (2, number):\n",
    "        if number % div == 0:\n",
    "            return False\n",
    "        count += 1\n",
    "    return True, count\n",
    "\n",
    "number =  int (input ('Введите число: '))    \n",
    "print (is_simple(number))\n",
    "print (is_very_simple(number))"
   ]
  },
  {
   "cell_type": "code",
   "execution_count": null,
   "metadata": {},
   "outputs": [],
   "source": [
    "# Семинар 5. Задача \n",
    "'''Загатываете число от 1 до 1000. Комп должен угадать число. \n",
    "Отвечать можно '<' и '>' '''\n",
    "\n",
    "number = int (raw_input ('Введите число: '))\n",
    "\n",
    "hidden = 500\n",
    "max_limit = 1000\n",
    "min_limit = 0\n",
    "hidden = (max_limit + min_limit) // 2\n",
    "\n",
    "while hidden != number:\n",
    "    print (f'Я думаю, что это {hidden}')\n",
    "    choice = input ('Больше (>) или меньше (<): ')\n",
    "    if choice == '<':\n",
    "        max_limit = hidden\n",
    "    else:\n",
    "        min_limit = hidden\n",
    "    hidden = (max_limit + min_limit) // 2\n",
    "\n",
    "print (f' Ты загадал {hidden}')   \n"
   ]
  },
  {
   "cell_type": "code",
   "execution_count": 4,
   "metadata": {},
   "outputs": [
    {
     "name": "stdout",
     "output_type": "stream",
     "text": [
      "[8, 1, 20, 19, 19, 6, 10, 18, 18]\n",
      "[16, 3, 1, 1]\n",
      "[8, 20, 19, 19, 6, 10, 18, 18]\n"
     ]
    }
   ],
   "source": [
    "# Семинар 6. Задача 39\n",
    "''' Даны два массива чисел. Требуется вывести те элементы\n",
    "первого массива (в том порядке, в каком они идут в первом\n",
    "массиве), которых нет во втором массиве. Пользователь вводит\n",
    "число N - количество элементов в первом массиве, затем N\n",
    "чисел - элементы массива. Затем число M - количество\n",
    "элементов во втором массиве. Затем элементы второго массива'''\n",
    "\n",
    "import random\n",
    "\n",
    "n = int(input('Введите размер 1 списка: '))\n",
    "list_1 = [random.randint (1,20) for _ in range (n)]\n",
    "list_2 = [random.randint (1,20) for _ in range (int (input ('Введите размер 2 списка: ')))]\n",
    "\n",
    "print (list_1)\n",
    "print (list_2)\n",
    "\n",
    "final_list = []\n",
    "for item in list_1:\n",
    "    if not item in list_2:\n",
    "        final_list.append (item)\n",
    "print (final_list)\n",
    "\n"
   ]
  },
  {
   "cell_type": "code",
   "execution_count": 13,
   "metadata": {},
   "outputs": [
    {
     "name": "stdout",
     "output_type": "stream",
     "text": [
      "True\n",
      "True\n"
     ]
    }
   ],
   "source": [
    "my_string = 'dflksfslkfjlfkjslk'\n",
    "print ('df' in my_string)\n",
    "\n",
    "my_string = [1, 553, 3, 54, 31165]\n",
    "print (54 in my_string)"
   ]
  },
  {
   "cell_type": "code",
   "execution_count": 32,
   "metadata": {},
   "outputs": [
    {
     "name": "stdout",
     "output_type": "stream",
     "text": [
      "[92, 71, 76, 67, 99, 58, 29, 84]\n",
      "84 92 71\n",
      "7 0 1\n",
      "92 71 76\n",
      "0 1 2\n",
      "71 76 67\n",
      "1 2 3\n",
      "76 67 99\n",
      "2 3 4\n",
      "67 99 58\n",
      "3 4 5\n",
      "99 58 29\n",
      "4 5 6\n",
      "58 29 84\n",
      "5 6 7\n",
      "29 84 92\n",
      "6 7 0\n",
      "3\n"
     ]
    }
   ],
   "source": [
    "# Семинар 6. Задача 41\n",
    "'''Дан массив, состоящий из целых чисел. Напишите\n",
    "программу, которая в данном массиве определит\n",
    "количество элементов, у которых два соседних и, при\n",
    "этом, оба соседних элемента меньше данного. Сначала\n",
    "вводится число N — количество элементов в массиве\n",
    "Далее записаны N чисел — элементы массива. Массив\n",
    "состоит из целых чисел.'''\n",
    "\n",
    "import random\n",
    "\n",
    "n = int (input ('Введите размер списка: '))\n",
    "my_list = [random.randint (1,100) for _ in range (n)]\n",
    "print (my_list)\n",
    "\n",
    "count = 0\n",
    "for i in range (n):\n",
    "    print (my_list [(i - 1) % len (my_list)], my_list [i % len (my_list)], my_list [(i + 1) % len (my_list)])\n",
    "    print ((i - 1) % len (my_list), i % len (my_list), (i + 1) % len (my_list))\n",
    "    if my_list [(i - 1) % len (my_list)] < my_list [i % len (my_list)] > my_list [(i + 1) % len (my_list)]:\n",
    "        count += 1\n",
    "print (count)"
   ]
  },
  {
   "cell_type": "code",
   "execution_count": null,
   "metadata": {},
   "outputs": [],
   "source": [
    "# Семинар 6. Задача 43\n",
    "'''Дан список чисел. Посчитайте, сколько в нем пар\n",
    "элементов, равных друг другу. Считается, что любые\n",
    "два элемента, равные друг другу образуют одну пару,\n",
    "которую необходимо посчитать. Вводится список\n",
    "чисел. Все числа списка находятся на разных\n",
    "строках.'''\n"
   ]
  },
  {
   "cell_type": "code",
   "execution_count": 1,
   "metadata": {},
   "outputs": [
    {
     "name": "stdout",
     "output_type": "stream",
     "text": [
      "220 284\n",
      "1184 1210\n",
      "2620 2924\n",
      "5020 5564\n",
      "6232 6368\n"
     ]
    }
   ],
   "source": [
    "# Семинар 6. Задача 45\n",
    "'''Два различных натуральных числа n и m называются\n",
    "дружественными, если сумма делителей числа n\n",
    "(включая 1, но исключая само n) равна числу m и\n",
    "наоборот. Например, 220 и 284 – дружественные числа.\n",
    "По данному числу k выведите все пары дружественных\n",
    "чисел, каждое из которых не превосходит k. Программа\n",
    "получает на вход одно натуральное число k, не\n",
    "превосходящее 105. Программа должна вывести все\n",
    "пары дружественных чисел, каждое из которых не\n",
    "превосходит k. Пары необходимо выводить по одной в\n",
    "строке, разделяя пробелами. Каждая пара должна быть\n",
    "выведена только один раз (перестановка чисел новую\n",
    "пару не дает).'''\n",
    "\n",
    "def sum_del (p):\n",
    "    summa = 0\n",
    "    for i in range (1, p //  + 1):\n",
    "        if p % i == 0:\n",
    "            summa += i\n",
    "    return summa\n",
    "\n",
    "k = 10000\n",
    "for n in range (1, k):\n",
    "    m = sum_del(n)\n",
    "    if n < m <= k and n == sum_del (m):\n",
    "        print (n, m)                                       \n"
   ]
  },
  {
   "cell_type": "code",
   "execution_count": 34,
   "metadata": {},
   "outputs": [],
   "source": [
    "def devider (number: int) -> int:\n",
    "    list_def = []\n",
    "    for div in range (1, number // 2 + 1):\n",
    "        if not number % div:\n",
    "            list_def.append (div)\n",
    "    return sum (list_def)\n",
    "\n",
    "    unique_list = []\n",
    "    for num in range (10000):\n",
    "        if devider (devider (num)) == num and num != devider (num):\n",
    "            if not ((num, devider (num))) in unique_list:\n",
    "                unique_list.append ((devider (num), num))\n",
    "                print (num, devider (num))"
   ]
  }
 ],
 "metadata": {
  "kernelspec": {
   "display_name": "Python 3",
   "language": "python",
   "name": "python3"
  },
  "language_info": {
   "codemirror_mode": {
    "name": "ipython",
    "version": 3
   },
   "file_extension": ".py",
   "mimetype": "text/x-python",
   "name": "python",
   "nbconvert_exporter": "python",
   "pygments_lexer": "ipython3",
   "version": "3.8.8"
  },
  "vscode": {
   "interpreter": {
    "hash": "ba21be89620e04870262143288bfa42d6558efc89d3b7b7a2c9e61153678bf59"
   }
  }
 },
 "nbformat": 4,
 "nbformat_minor": 2
}
