{
 "cells": [
  {
   "cell_type": "code",
   "execution_count": 16,
   "metadata": {},
   "outputs": [
    {
     "name": "stdout",
     "output_type": "stream",
     "text": [
      "[8, 20, 10, 1, 3, 10, 11, 19, 20, 7, 18, 20, 5, 4, 10]\n",
      "Последний элемент массива \"10\" встречается 3 раз\n"
     ]
    }
   ],
   "source": [
    "'''Задача 16: Требуется вычислить, сколько раз встречается некоторое\n",
    "число X в массиве A[1..N]. Пользователь в первой строке вводит\n",
    "натуральное число N – количество элементов в массиве. В последующих\n",
    "строках записаны N целых чисел Ai. Последняя строка содержит число X\n",
    "'''\n",
    "count = int (input ('Количество элементов в массиве = ' ))\n",
    "massiv = list ()\n",
    "n = 0\n",
    "for _ in range (count):\n",
    "    from random import randint\n",
    "    k = randint(1,20)\n",
    "    massiv.append (k)\n",
    "print (massiv)    \n",
    "for i in range (count):\n",
    "    if k == massiv [i]:\n",
    "        n += 1\n",
    "print (f'Последний элемент массива \"{k}\" встречается {n} раз')\n"
   ]
  },
  {
   "cell_type": "code",
   "execution_count": 132,
   "metadata": {},
   "outputs": [
    {
     "name": "stdout",
     "output_type": "stream",
     "text": [
      "[19, 16, 20, 15, 15, 4, 13, 18, 15, 19, 8, 11, 12, 9, 8, 18, 4, 6, 16, 5, 14, 3, 6]\n",
      "Последний элемент массива \"6\" и самый близкий к нему по значению элемент 5 и 8\n"
     ]
    }
   ],
   "source": [
    "'''Задача 18: Требуется найти в массиве A[1..N] самый близкий по величине элемент к заданному \n",
    "числу X. Пользователь в первой строке вводит натуральное число N – количество элементов в массиве. \n",
    "В последующих строках записаны N целых чисел Ai. Последняя строка содержит число X\n",
    "'''\n",
    "count = int (input ('Количество элементов в массиве = ' ))\n",
    "massiv = list ()\n",
    "n = 0\n",
    "for i in range (count):\n",
    "    from random import randint\n",
    "    k = randint(1,20)\n",
    "    massiv.append (k)\n",
    "print (massiv)  \n",
    "min1 = 1\n",
    "min2 = 20\n",
    "for i in range (count-1):    \n",
    "    if massiv [i] > min1 and (k - massiv [i]) > 0:\n",
    "        min1 = massiv [i]    \n",
    "for i in range (count-1):        \n",
    "    if massiv [i] < min2 and (massiv [i] - k) > 0: \n",
    "        min2 = massiv [i]\n",
    "print (f'Последний элемент массива \"{k}\" и самый близкий к нему по значению элемент {min1} и {min2}')"
   ]
  },
  {
   "cell_type": "code",
   "execution_count": 136,
   "metadata": {},
   "outputs": [
    {
     "name": "stdout",
     "output_type": "stream",
     "text": [
      "ГЕШДПОП\n"
     ]
    }
   ],
   "source": [
    "'''Задача 20:В настольной игре Скрабл (Scrabble) каждая буква имеет определенную\n",
    "ценность. В случае с английским алфавитом очки распределяются так:\n",
    "A, E, I, O, U, L, N, S, T, R – 1 очко;\n",
    "D, G – 2 очка;\n",
    "B, C, M, P – 3 очка;\n",
    "F, H, V, W, Y – 4 очка;\n",
    "K – 5 очков;\n",
    "J, X – 8 очков;\n",
    "Q, Z – 10 очков.\n",
    "А русские буквы оцениваются так:\n",
    "А, В, Е, И, Н, О, Р, С, Т – 1 очко;\n",
    "Д, К, Л, М, П, У – 2 очка;\n",
    "Б, Г, Ё, Ь, Я – 3 очка;\n",
    "Й, Ы – 4 очка;\n",
    "Ж, З, Х, Ц, Ч – 5 очков;\n",
    "Ш, Э, Ю – 8 очков;\n",
    "Ф, Щ, Ъ – 10 очков.\n",
    "Напишите программу, которая вычисляет стоимость введенного пользователем слова.\n",
    "Будем считать, что на вход подается только одно слово, которое содержит либо только\n",
    "английские, либо только русские буквы.\n",
    "'''\n",
    "str = input ()\n",
    "print (str)\n",
    "''' 'А' = 'В' = 'Е' = 'И' = 'Н' = 'О' = 'Р' = 'С' = 'Т' = 1\n",
    "Д, К, Л, М, П, У = 2\n",
    "Б, Г, Ё, Ь, Я = 3\n",
    "Й, Ы = 4\n",
    "Ж, З, Х, Ц, Ч = 5\n",
    "Ш, Э, Ю = 8 \n",
    "Ф, Щ, Ъ = 10 '''\n",
    "\n"
   ]
  }
 ],
 "metadata": {
  "kernelspec": {
   "display_name": "Python 3",
   "language": "python",
   "name": "python3"
  },
  "language_info": {
   "codemirror_mode": {
    "name": "ipython",
    "version": 3
   },
   "file_extension": ".py",
   "mimetype": "text/x-python",
   "name": "python",
   "nbconvert_exporter": "python",
   "pygments_lexer": "ipython3",
   "version": "3.9.6"
  },
  "orig_nbformat": 4
 },
 "nbformat": 4,
 "nbformat_minor": 2
}
