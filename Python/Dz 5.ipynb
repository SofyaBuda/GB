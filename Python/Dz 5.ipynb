{
 "cells": [
  {
   "cell_type": "code",
   "execution_count": 3,
   "metadata": {},
   "outputs": [
    {
     "name": "stdout",
     "output_type": "stream",
     "text": [
      "число 2 в степени -3 = 0.125\n"
     ]
    }
   ],
   "source": [
    "''' Задача 26: Напишите программу, которая на вход принимает\n",
    "два числа A и B, и возводит число А в целую степень B с\n",
    "помощью рекурсии.\n",
    "'''\n",
    "def power (a,b):\n",
    "    if b == 1:\n",
    "        return a\n",
    "    elif b > 1:\n",
    "        return a * power (a,b-1)\n",
    "    else:\n",
    "        return 1 / a * power (a,b+1)\n",
    "\n",
    "a = int (input ('Введите целое число: '))\n",
    "b = int (input ('Введите натуральное число: '))\n",
    "print (f'число {a} в степени {b} = ', end = '')\n",
    "print (power(a,b))\n"
   ]
  },
  {
   "cell_type": "code",
   "execution_count": 9,
   "metadata": {},
   "outputs": [
    {
     "name": "stdout",
     "output_type": "stream",
     "text": [
      "6 + -4 = 2\n"
     ]
    }
   ],
   "source": [
    "''' Задача 28: Напишите рекурсивную функцию sum(a, b),\n",
    "возвращающую сумму двух целых неотрицательных чисел. Из\n",
    "всех арифметических операций допускаются только +1 и -1.\n",
    "Также нельзя использовать циклы.\n",
    "'''\n",
    "def sum (a,b):\n",
    "    if b == 0:\n",
    "        return a\n",
    "    elif b > 0:\n",
    "        return 1 + sum (a,b-1)\n",
    "    else:\n",
    "        return -1 +  sum (a,b+1) \n",
    "\n",
    "a = int (input ('Введите число: '))\n",
    "b = int (input ('Введите степень числа: '))\n",
    "print (f'{a} + {b} = ', end = '')\n",
    "print (sum (a,b)) "
   ]
  }
 ],
 "metadata": {
  "kernelspec": {
   "display_name": "Python 3",
   "language": "python",
   "name": "python3"
  },
  "language_info": {
   "codemirror_mode": {
    "name": "ipython",
    "version": 3
   },
   "file_extension": ".py",
   "mimetype": "text/x-python",
   "name": "python",
   "nbconvert_exporter": "python",
   "pygments_lexer": "ipython3",
   "version": "3.9.6"
  },
  "orig_nbformat": 4
 },
 "nbformat": 4,
 "nbformat_minor": 2
}
