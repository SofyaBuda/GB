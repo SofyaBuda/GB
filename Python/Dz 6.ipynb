{
 "cells": [
  {
   "cell_type": "code",
   "execution_count": 1,
   "metadata": {},
   "outputs": [
    {
     "name": "stdout",
     "output_type": "stream",
     "text": [
      "Введите первый элемент: 5\n",
      "Введите разность арифметической прогрессии: 6\n",
      "Введите количество элементов: 4\n",
      "5\n",
      "11\n",
      "17\n",
      "23\n"
     ]
    }
   ],
   "source": [
    "'''Задача 30:  Заполните массив элементами арифметической прогрессии. Её первый элемент, \n",
    "разность и количество элементов нужно ввести с клавиатуры. Формула для получения \n",
    "n-го члена прогрессии: an = a1 + (n-1) * d. Каждое число вводится с новой строки.\n",
    "'''\n",
    "a = int(input('Введите первый элемент: '))\n",
    "d = int(input('Введите разность арифметической прогрессии: '))\n",
    "n = int(input('Введите количество элементов: '))\n",
    "for i in range (n):\n",
    "    an = a + (i * d)\n",
    "    i += 1\n",
    "    print (an)\n"
   ]
  },
  {
   "cell_type": "code",
   "execution_count": 36,
   "metadata": {},
   "outputs": [
    {
     "name": "stdout",
     "output_type": "stream",
     "text": [
      "список:  [10, 46, 19, 82, 33, 11, 83, 38, 45, 45, 66, 59, 36, 71, 62]\n",
      "В диапазон от 48 до 69 входят элементы с индексами: \n",
      "10 11 14 "
     ]
    }
   ],
   "source": [
    "'''Задача 32: Определить индексы элементов массива (списка), значения которых принадлежат \n",
    "заданному диапазону (т.е. не меньше заданного минимума и не больше заданного максимума)\n",
    "'''\n",
    "import random\n",
    "\n",
    "n = int(input('Введите размер списка: '))\n",
    "list_1 = [random.randint(1,100) for _ in range (n)]\n",
    "print ('список: ', list_1)\n",
    "a = int(input('Введите минимальные значения: '))\n",
    "c = int(input('Введите максимальные значения: '))\n",
    "if a > c:\n",
    "    a,c = c,a\n",
    "print (f'В диапазон от {a} до {c} входят элементы с индексами: ')\n",
    "if a > 100:\n",
    "    print ('Вы вышли за границы диапазона от 1 до 100')\n",
    "        \n",
    "for i in range (n):\n",
    "    if a <= list_1[i] <= c:\n",
    "        print ( i, end = ' ')\n"
   ]
  },
  {
   "cell_type": "code",
   "execution_count": 3,
   "metadata": {},
   "outputs": [
    {
     "data": {
      "text/plain": [
       "75645617"
      ]
     },
     "execution_count": 3,
     "metadata": {},
     "output_type": "execute_result"
    }
   ],
   "source": [
    "19+7_564_5598\n"
   ]
  },
  {
   "cell_type": "code",
   "execution_count": null,
   "metadata": {},
   "outputs": [],
   "source": []
  }
 ],
 "metadata": {
  "kernelspec": {
   "display_name": "Python 3",
   "language": "python",
   "name": "python3"
  },
  "language_info": {
   "codemirror_mode": {
    "name": "ipython",
    "version": 3
   },
   "file_extension": ".py",
   "mimetype": "text/x-python",
   "name": "python",
   "nbconvert_exporter": "python",
   "pygments_lexer": "ipython3",
   "version": "3.8.8"
  }
 },
 "nbformat": 4,
 "nbformat_minor": 2
}
