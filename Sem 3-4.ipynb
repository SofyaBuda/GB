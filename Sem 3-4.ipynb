{
 "cells": [
  {
   "cell_type": "code",
   "execution_count": null,
   "metadata": {},
   "outputs": [],
   "source": [
    "# list []   список      изменяемый      упорядоченный           любые данные    безразмерный\n",
    "# tuple ()  кортеж      не изменяемый   упорядоченный           любые данные    безразмерный\n",
    "# set {}    множество   изменяемый      куча уникальных зн-й    любые данные    безразмерный    \n",
    "# dic {:}   словарь     изменяем зн-я   не упорядоченный        любые данные    безразмерный    json из словарей\n",
    "\n",
    "# list.pop (2)          вырезает элемент с индексом 2, т.е. третий.\n",
    "# .insert (куда, что)   вставляет по индексу.\n",
    "# .remove (3)           удаляет элемент по значению 3, первое попавшийся.\n",
    "# .append (3)           добавляет значение в конец списка.  \n",
    "# .replace  \n",
    "# .lower ().split ()"
   ]
  },
  {
   "cell_type": "code",
   "execution_count": null,
   "metadata": {},
   "outputs": [],
   "source": [
    "my_dict = {1: 'one', 2: 'two', 3: 'three'}\n",
    "print (my_dict[2])\n",
    "print (my_dict.get(4))\n",
    "print (my_dict.get(4, 0))"
   ]
  },
  {
   "cell_type": "code",
   "execution_count": null,
   "metadata": {},
   "outputs": [],
   "source": [
    "print (my_dict)\n",
    "my_dict.setdefault (5, 'five')\n",
    "print (my_dict)\n",
    "my_dict [3] = 'four'     \n",
    "print (my_dict)\n",
    "my_dict [key] =my_dict.get (key, 0) + 1\n",
    "print (my_dict)"
   ]
  },
  {
   "cell_type": "code",
   "execution_count": null,
   "metadata": {},
   "outputs": [],
   "source": [
    "for i in my_dic:\n",
    "    print (i)\n",
    "for i in my_dic.values ():\n",
    "    print (i)\n",
    "for i in my_dic.items ():\n",
    "    print (i)\n",
    "for i,k in my_dic.items ():\n",
    "    print (i)\n",
    "    print (k) "
   ]
  },
  {
   "cell_type": "code",
   "execution_count": null,
   "metadata": {},
   "outputs": [],
   "source": [
    "# Семинар 3. Задача 17\n",
    "'''Дан список чисел. Определите, сколько в нем встречается различных чисел.'''\n",
    "import random\n",
    "\"\"\" \n",
    "my_list =\n",
    "for i in range (20)\n",
    "    my_list.append (random.randint(0,10)) \"\"\"\n",
    "# my_list = [i**2 for i in range (20)]\n",
    "    \n",
    "my_list = [random.randint (0,10) for i in range (20)]\n",
    "print (my_list)\n",
    "print (set (my_list))\n",
    "print (len (set (my_list)))\n",
    "\n"
   ]
  },
  {
   "cell_type": "code",
   "execution_count": 8,
   "metadata": {},
   "outputs": [
    {
     "name": "stdout",
     "output_type": "stream",
     "text": [
      "[0, 1, 2, 3, 4, 5, 6, 7, 8, 9]\n",
      "[7, 8, 9, 0, 1, 2, 3, 4, 5, 6]\n",
      "[8, 9, 0, 1, 2, 3, 4]\n",
      "[4, 5, 6, 7, 8, 9, 0, 1, 2, 3]\n",
      "[0, 1, 2, 3, 4, 5, 6, 7, 8, 9]\n",
      "[4, 5, 6, 7, 8, 9, 0, 1, 2, 3]\n"
     ]
    }
   ],
   "source": [
    "# Семинар 3. Задача 19\n",
    "'''Дана последовательность из N целых чисел и число\n",
    "K. Необходимо сдвинуть всю последовательность\n",
    "(сдвиг - циклический) на K элементов вправо, K –\n",
    "положительное число.'''\n",
    "\n",
    "import random\n",
    "\n",
    "my_list = [i for i in range (10)]\n",
    "print (my_list)\n",
    "\n",
    "# pop & insert\n",
    "shift = int (input ('на сколько двигаем вправо'))\n",
    "for i in range (shift):\n",
    "    temp = my_list.pop (len(my_list) - 1)\n",
    "    my_list.insert (0, temp)\n",
    "print (my_list)\n",
    "\n",
    "# срезами\n",
    "print (my_list[1:-2])\n",
    "print (my_list[-shift:] + my_list[:-shift])\n",
    "print (my_list[shift:] + my_list[:shift])\n",
    "\n",
    "# индексами\n",
    "new_list = []\n",
    "for i in range (len(my_list)):\n",
    "    new_list.append (my_list [(i-shift)])\n",
    "print (new_list)\n",
    "\n"
   ]
  },
  {
   "cell_type": "code",
   "execution_count": 9,
   "metadata": {},
   "outputs": [
    {
     "name": "stdout",
     "output_type": "stream",
     "text": [
      "[0, 1, 2, 3, 4, 5, 6, 7, 8, 9]\n",
      "1\n",
      "2\n",
      "3\n",
      "4\n",
      "5\n",
      "6\n",
      "7\n",
      "8\n",
      "9\n"
     ]
    }
   ],
   "source": [
    "# Семинар 3. Задача 23\n",
    "'''Дан массив, состоящий из целых чисел. Напишите\n",
    "программу, которая подсчитает количество\n",
    "элементов массива, больших предыдущего (элемента\n",
    "с предыдущим номером)'''\n",
    "\n",
    "import random\n",
    "\n",
    "my_list = [i for i in range (10)]\n",
    "print (my_list)\n",
    "\n",
    "for i in range (1, len(my_list)):\n",
    "    print (i)\n",
    "\n"
   ]
  },
  {
   "cell_type": "code",
   "execution_count": null,
   "metadata": {},
   "outputs": [],
   "source": [
    "# Семинар 3. Задача 21\n",
    "'''Напишите программу для печати всех уникальных значений в словаре.'''\n",
    "\n",
    "list_1 = [{\"V\": \"S001\"}, {\"V\": \"S002\"}, {\"VI\": \"S001\"},{\"VI\": \"S005\"}, {\"VII\": \" S005 \"}, {\" V \":\" S009 \"}, {\" VIII\":\" S007 \"}]\n",
    "\n",
    "my_set = set ()    \n",
    "for item in list_1:\n",
    "    for value in item.values ():\n",
    "        my_set.add (value)\n",
    "print (my_set)\n",
    "\n",
    "for item in list_1:\n",
    "    for key in item.keys ():\n",
    "        my_set.add (item.get(key))\n",
    "print (my_set)\n"
   ]
  },
  {
   "cell_type": "code",
   "execution_count": 7,
   "metadata": {},
   "outputs": [
    {
     "name": "stdout",
     "output_type": "stream",
     "text": [
      "abcdefghijklmnopqrstuvwxyzABCDEFGHIJKLMNOPQRSTUVWXYZ\n",
      "0123456789\n",
      "abcdefghijklmnopqrstuvwxyz0123456789\n",
      "p 2 2 v y f y e 8 a h e l y f i k 7 y l p c 2 b 7 a j 0 f e\n",
      "['d', 'r', 'g', 'b', 'd', 'x', 'r', '5', '8', 'g', 'd', '5', '7', 'v', 'n', 'd', 'a', 'o', '4', '6', 'q', '4', 'r', 'p', '6', '9', 'o', 'z', 'u', 'i']\n",
      "d r g b d_1 x r_1 5 8 g_1 d_2 5_1 7 v n d_3 a o 4 6 q 4_1 r_2 p 6_1 9 o_1 z u i "
     ]
    }
   ],
   "source": [
    "# Семинар 4. Задача \n",
    "\n",
    "import string\n",
    "import random\n",
    "\n",
    "print (string.ascii_letters)\n",
    "print (string.digits)\n",
    "print (string.ascii_lowercase + string.digits)\n",
    "\n",
    "all_chars = string.ascii_lowercase + string.digits\n",
    "my_string = ' '.join ([random.choice (all_chars) for _ in range (30)])\n",
    "print (my_string) \n",
    "\n",
    "my_string = [random.choice (all_chars) for _ in range (30)]\n",
    "print (my_string)\n",
    "\n",
    "dic_count = {}\n",
    "for item in my_string:\n",
    "    dic_count [item] = dic_count.get (item, -1) + 1\n",
    "    if dic_count.get (item) > 0:\n",
    "        print (f'{item}_{dic_count.get (item)}', end =' ' )\n",
    "    else:\n",
    "        print (item, end = ' ')"
   ]
  },
  {
   "cell_type": "code",
   "execution_count": 12,
   "metadata": {},
   "outputs": [
    {
     "name": "stdout",
     "output_type": "stream",
     "text": [
      "She sells sea shells on the sea shore;The shells\n",
      "    that she sells are sea shells I'm sure.So if she sells sea\n",
      "    shells on the sea shore,I'm sure that the shells are sea\n",
      "    shore shells.\n",
      "['!', '\"', '#', '$', '%', '&', \"'\", '(', ')', '*', '+', ',', '-', '.', '/', ':', ';', '<', '=', '>', '?', '@', '[', '\\\\', ']', '^', '_', '`', '{', '|', '}', '~', '\\n', '\\t']\n",
      "She sells sea shells on the sea shore The shells     that she sells are sea shells I m sure So if she sells sea     shells on the sea shore I m sure that the shells are sea     shore shells \n",
      "['she', 'sells', 'sea', 'shells', 'on', 'the', 'sea', 'shore', 'the', 'shells', 'that', 'she', 'sells', 'are', 'sea', 'shells', 'i', 'm', 'sure', 'so', 'if', 'she', 'sells', 'sea', 'shells', 'on', 'the', 'sea', 'shore', 'i', 'm', 'sure', 'that', 'the', 'shells', 'are', 'sea', 'shore', 'shells']\n",
      "('she', 3)\n",
      "('sells', 3)\n",
      "('sea', 6)\n",
      "('shells', 6)\n",
      "('on', 2)\n",
      "('the', 4)\n",
      "('shore', 3)\n",
      "('that', 2)\n",
      "('are', 2)\n",
      "('i', 2)\n",
      "('m', 2)\n",
      "('sure', 2)\n",
      "('so', 1)\n",
      "('if', 1)\n",
      "14\n"
     ]
    }
   ],
   "source": [
    "# Семинар 4. Задача \n",
    "my_text = '''She sells sea shells on the sea shore;The shells\n",
    "    that she sells are sea shells I'm sure.So if she sells sea\n",
    "    shells on the sea shore,I'm sure that the shells are sea\n",
    "    shore shells.'''\n",
    "print (my_text)\n",
    "\n",
    "punct = list (string.punctuation) + ['\\n'] + ['\\t']\n",
    "print (punct)\n",
    "\n",
    "for char in punct:\n",
    "    my_text = my_text.replace (char, ' ')\n",
    "print (my_text)\n",
    "\n",
    "my_text = my_text.lower ().split ()\n",
    "print (my_text)\n",
    "\n",
    "dict_count = {}\n",
    "for key in my_text:\n",
    "    dict_count [key] = dict_count.get (key, 0)+ 1\n",
    "print (*dict_count.items (), sep = '\\n')\n",
    "\n",
    "print (len (set (dict_count)))"
   ]
  },
  {
   "cell_type": "code",
   "execution_count": 11,
   "metadata": {},
   "outputs": [
    {
     "name": "stdout",
     "output_type": "stream",
     "text": [
      "okaxgrzk gaywkbu peqxbss. axffje unuhj. pzgctri? jbttz lzmq, qppln xmbegd upjxc cgkwws fpuy. saolt usaktg vmedvtoh xnrugrwo mzbsbab yetzsxm\n"
     ]
    }
   ],
   "source": [
    "# Семинар 4.  Рандомные предложения из случайных элементов\n",
    "\n",
    "my_random_text = []\n",
    "for i in range (random.randint (10, 20)):\n",
    "    word = ''\n",
    "    for j in range (random.randint (4, 8)):\n",
    "        word += random.choice (string.ascii_lowercase)\n",
    "    my_random_text.append (word + str (random.choice (['.', ',', '!', '?']) if random.choice ([0,0,0,1]) else ''))\n",
    "print (' '.join (my_random_text))\n"
   ]
  }
 ],
 "metadata": {
  "kernelspec": {
   "display_name": "Python 3",
   "language": "python",
   "name": "python3"
  },
  "language_info": {
   "codemirror_mode": {
    "name": "ipython",
    "version": 3
   },
   "file_extension": ".py",
   "mimetype": "text/x-python",
   "name": "python",
   "nbconvert_exporter": "python",
   "pygments_lexer": "ipython3",
   "version": "3.9.6"
  },
  "orig_nbformat": 4
 },
 "nbformat": 4,
 "nbformat_minor": 2
}
