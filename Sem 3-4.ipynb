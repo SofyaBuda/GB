{
 "cells": [
  {
   "cell_type": "code",
   "execution_count": null,
   "metadata": {},
   "outputs": [],
   "source": [
    "# list []   список      изменяемый      упорядоченный           любые данные    безразмерный\n",
    "# tuple ()  кортеж      не изменяемый   упорядоченный           любые данные    безразмерный\n",
    "# set {}    множество   изменяемый      куча уникальных зн-й    любые данные    безразмерный    \n",
    "# dic {:}   словарь     изменяем зн-я   не упорядоченный        любые данные    безразмерный    json из словарей\n",
    "\n",
    "# list.pop (2)          вырезает элемент с индексом 2, т.е. третий.\n",
    "# .insert (куда, что)   вставляет по индексу.\n",
    "# .remove (3)           удаляет элемент по значению 3, первое попавшийся.\n",
    "# .append (3)           добавляет значение в конец списка.  \n",
    "# .replace  \n",
    "# .lower ()\n",
    "# .split ()             разделяет строку по пробелу или другому разделителю\n",
    "\n",
    "a = {1, 2, 3, 5, 8}\n",
    "b = {2, 5, 8, 13, 21}\n",
    "c = a.copy()            # c = {1, 2, 3, 5, 8}\n",
    "u = a.union(b)          # u = {1, 2, 3, 5, 8, 13, 21}\n",
    "i = a.intersection(b)   # i = {8, 2, 5}\n",
    "dl = a.difference(b)    # dl = {1, 3}\n",
    "dr = b.difference(a)    # dr = {13, 21}\n",
    "q = a.union(b).difference(a.intersection(b)) # {1, 21, 3, 13}"
   ]
  },
  {
   "cell_type": "code",
   "execution_count": null,
   "metadata": {},
   "outputs": [],
   "source": [
    "s = \"молоко\"\n",
    "k = s.count(\"о\", 0, 3) # так мы ищем количество букв \"о\" в строке s c 0 символа по 2 включительно\n",
    "print (k)              # метод count вернёт число 1"
   ]
  },
  {
   "cell_type": "code",
   "execution_count": 15,
   "metadata": {},
   "outputs": [
    {
     "name": "stdout",
     "output_type": "stream",
     "text": [
      "two\n",
      "None\n",
      "0\n",
      "{1: 'one', 2: 'two', 3: 'three', 4: 'four'}\n",
      "{1: 'one', 2: 'two', 3: 'three', 4: 'four', 5: 'five'}\n",
      "{1: 'one', 2: 'two', 3: 'three', 4: 'four', 5: 'five', 6: 10}\n"
     ]
    }
   ],
   "source": [
    "my_dict = {1: 'one', 2: 'two', 3: 'three'}\n",
    "print (my_dict[2])\n",
    "print (my_dict.get(4))\n",
    "print (my_dict.get(4, 0))\n",
    "my_dict [4] = 'four'\n",
    "print (my_dict)\n",
    "my_dict.setdefault (5, 'five')\n",
    "print (my_dict)\n",
    "my_dict [6] =my_dict.get (6, 0) + 10\n",
    "print (my_dict)"
   ]
  },
  {
   "cell_type": "code",
   "execution_count": 34,
   "metadata": {},
   "outputs": [
    {
     "name": "stdout",
     "output_type": "stream",
     "text": [
      "1\n",
      "2\n",
      "3\n",
      "4\n",
      "5\n",
      "6\n",
      "one\n",
      "two\n",
      "three\n",
      "four\n",
      "five\n",
      "10\n",
      "dict_keys([1, 2, 3, 4, 5, 6])\n"
     ]
    }
   ],
   "source": [
    "for i in my_dict:\n",
    "    print (i)\n",
    "for i in my_dict.values ():\n",
    "    print (i)\n",
    "\n",
    "if 5 in my_dict:\n",
    "    print (my_dict.keys ())\n",
    "else:\n",
    "    print ('No')"
   ]
  },
  {
   "cell_type": "code",
   "execution_count": 24,
   "metadata": {},
   "outputs": [
    {
     "name": "stdout",
     "output_type": "stream",
     "text": [
      "(1, 'one')\n",
      "(2, 'two')\n",
      "(3, 'three')\n",
      "(4, 'four')\n",
      "(5, 'five')\n",
      "(6, 10)\n",
      "1 one\n",
      "2 two\n",
      "3 three\n",
      "4 four\n",
      "5 five\n",
      "6 10\n"
     ]
    }
   ],
   "source": [
    "for i in my_dict.items ():\n",
    "    print (i)\n",
    "for i,k in my_dict.items ():\n",
    "    print (str (i) + ' ' + str (k))"
   ]
  },
  {
   "cell_type": "code",
   "execution_count": 39,
   "metadata": {},
   "outputs": [
    {
     "name": "stdout",
     "output_type": "stream",
     "text": [
      "{'first': [1, 2, 3], 'second': [10, 20], 'third': [15, -20, 70]}\n"
     ]
    }
   ],
   "source": [
    "a = ['first', 1, 2, 3, 'second', 10, 20,'third', 15, -20, 70]\n",
    "\n",
    "b = {}\n",
    "n = None\n",
    "\n",
    "for i in a:\n",
    "    if (type (i) == str):       # находим элемент с типом строка\n",
    "        b [i] = []              # в библиотеке этиму элементу присваиваем пустое можество \n",
    "        n = i                   # запоминаем индекс этого элемента \n",
    "    else:\n",
    "    b [n].append (i)            # если элемент не строка, то элементу с ключем n присваиваем значение элемента который не строка   \n",
    "print (b)"
   ]
  },
  {
   "cell_type": "code",
   "execution_count": 51,
   "metadata": {},
   "outputs": [
    {
     "name": "stdout",
     "output_type": "stream",
     "text": [
      "{'Привет': 1, 'пока': 1, 'как': 2, 'дела': 1, 'привет': 2, 'арбуз': 1, 'стол': 1, 'слон': 1}\n",
      "True\n",
      "True\n"
     ]
    }
   ],
   "source": [
    "text1 = 'Привет пока как дела привет привет арбуз стол как слон'\n",
    "\n",
    "text2 = {}                          # по умолчанию {} это библиотека, если будут значения указаны, то множество\n",
    "for word in text1.split ():\n",
    "    if word in text2:\n",
    "        text2 [word] = text2 [word] + 1\n",
    "    else:\n",
    "        text2 [word] = 1\n",
    "print (text2)\n",
    "\n",
    "print ('слон' in text2)\n",
    "print ('стул' not in text1)\n"
   ]
  },
  {
   "cell_type": "code",
   "execution_count": 7,
   "metadata": {},
   "outputs": [
    {
     "name": "stdout",
     "output_type": "stream",
     "text": [
      "[[5, 0, 0], [5, 0, 0], [5, 0, 0]]\n",
      " [0, 0, 0] \n",
      " [0, 0, 0] \n",
      " [0, 0, 0]\n",
      "[[0, 0, 0], [0, 0, 0], [0, 0, 0]]\n"
     ]
    }
   ],
   "source": [
    "# Генерация двухмерных списков\n",
    "n = 3\n",
    "a = [[0] * n] * n       # Создаем один список и 3 раза его копируем\n",
    "a [0][0] = 5            # так как у нас 3 копии списка у всех измениться первый элемент\n",
    "print (a)\n",
    "\n",
    "a = [[0] * n for i in range (n)]\n",
    "print ('',a [0], '\\n', a [1], '\\n', a [2])\n",
    "\n",
    "a = [[0 for j in range (n)] for i in range (n)]\n",
    "print (a)"
   ]
  },
  {
   "cell_type": "code",
   "execution_count": 25,
   "metadata": {},
   "outputs": [
    {
     "name": "stdout",
     "output_type": "stream",
     "text": [
      "[7, 2, 8, 3, 4, 7, 4, 7, 3, 4, 9, 5, 10, 6, 4, 6, 6, 0, 7, 2]\n",
      "{0, 2, 3, 4, 5, 6, 7, 8, 9, 10}\n",
      "10\n"
     ]
    }
   ],
   "source": [
    "# Семинар 3. Задача 17\n",
    "'''Дан список чисел. Определите, сколько в нем встречается различных чисел.'''\n",
    "import random\n",
    "\"\"\" \n",
    "my_list =\n",
    "for i in range (20)\n",
    "    my_list.append (random.randint(0,10)) \"\"\"\n",
    "# my_list = [i**2 for i in range (20)]\n",
    "    \n",
    "my_list = [random.randint (0,10) for i in range (20)]\n",
    "print (my_list)\n",
    "print (set (my_list))\n",
    "print (len (set (my_list)))"
   ]
  },
  {
   "cell_type": "code",
   "execution_count": 41,
   "metadata": {},
   "outputs": [
    {
     "name": "stdout",
     "output_type": "stream",
     "text": [
      "[0, 1, 2, 3, 4, 5, 6, 7, 8, 9]\n",
      "[7, 8, 9, 0, 1, 2, 3, 4, 5, 6]\n",
      "[8, 9, 0, 1, 2, 3, 4]\n",
      "[4, 5, 6, 7, 8, 9, 0, 1, 2, 3]\n",
      "[0, 1, 2, 3, 4, 5, 6, 7, 8, 9]\n",
      "[4, 5, 6, 7, 8, 9, 0, 1, 2, 3]\n"
     ]
    }
   ],
   "source": [
    "# Семинар 3. Задача 19\n",
    "'''Дана последовательность из N целых чисел и число\n",
    "K. Необходимо сдвинуть всю последовательность\n",
    "(сдвиг - циклический) на K элементов вправо, K –\n",
    "положительное число.'''\n",
    "\n",
    "import random\n",
    "\n",
    "my_list = [i for i in range (10)]\n",
    "print (my_list)\n",
    "\n",
    "# pop & insert\n",
    "shift = int (input ('на сколько двигаем вправо'))\n",
    "for i in range (shift):\n",
    "    temp = my_list.pop (len(my_list) - 1)\n",
    "    my_list.insert (0, temp)\n",
    "print (my_list)\n",
    "\n",
    "# срезами\n",
    "print (my_list[1:-2])\n",
    "print (my_list[-shift:] + my_list[:-shift])\n",
    "print (my_list[shift:] + my_list[:shift])\n",
    "\n",
    "# индексами\n",
    "new_list = []\n",
    "for i in range (len(my_list)):\n",
    "    new_list.append (my_list [(i-shift)])\n",
    "print (new_list)\n",
    "\n"
   ]
  },
  {
   "cell_type": "code",
   "execution_count": 9,
   "metadata": {},
   "outputs": [
    {
     "name": "stdout",
     "output_type": "stream",
     "text": [
      "[0, 1, 2, 3, 4, 5, 6, 7, 8, 9]\n",
      "1\n",
      "2\n",
      "3\n",
      "4\n",
      "5\n",
      "6\n",
      "7\n",
      "8\n",
      "9\n"
     ]
    }
   ],
   "source": [
    "# Семинар 3. Задача 23\n",
    "'''Дан массив, состоящий из целых чисел. Напишите\n",
    "программу, которая подсчитает количество\n",
    "элементов массива, больших предыдущего (элемента\n",
    "с предыдущим номером)'''\n",
    "\n",
    "import random\n",
    "\n",
    "my_list = [i for i in range (10)]\n",
    "print (my_list)\n",
    "\n",
    "for i in range (1, len(my_list)):\n",
    "    print (i)\n",
    "\n"
   ]
  },
  {
   "cell_type": "code",
   "execution_count": null,
   "metadata": {},
   "outputs": [],
   "source": [
    "# Семинар 3. Задача 21\n",
    "'''Напишите программу для печати всех уникальных значений в словаре.'''\n",
    "\n",
    "list_1 = [{\"V\": \"S001\"}, {\"V\": \"S002\"}, {\"VI\": \"S001\"},{\"VI\": \"S005\"}, {\"VII\": \" S005 \"}, {\" V \":\" S009 \"}, {\" VIII\":\" S007 \"}]\n",
    "\n",
    "my_set = set ()    \n",
    "for item in list_1:\n",
    "    for value in item.values ():\n",
    "        my_set.add (value)\n",
    "print (my_set)\n",
    "\n",
    "for item in list_1:\n",
    "    for key in item.keys ():\n",
    "        my_set.add (item.get(key))\n",
    "print (my_set)\n"
   ]
  },
  {
   "cell_type": "code",
   "execution_count": 7,
   "metadata": {},
   "outputs": [
    {
     "name": "stdout",
     "output_type": "stream",
     "text": [
      "abcdefghijklmnopqrstuvwxyzABCDEFGHIJKLMNOPQRSTUVWXYZ\n",
      "0123456789\n",
      "abcdefghijklmnopqrstuvwxyz0123456789\n",
      "p 2 2 v y f y e 8 a h e l y f i k 7 y l p c 2 b 7 a j 0 f e\n",
      "['d', 'r', 'g', 'b', 'd', 'x', 'r', '5', '8', 'g', 'd', '5', '7', 'v', 'n', 'd', 'a', 'o', '4', '6', 'q', '4', 'r', 'p', '6', '9', 'o', 'z', 'u', 'i']\n",
      "d r g b d_1 x r_1 5 8 g_1 d_2 5_1 7 v n d_3 a o 4 6 q 4_1 r_2 p 6_1 9 o_1 z u i "
     ]
    }
   ],
   "source": [
    "# Семинар 4. Задача \n",
    "\n",
    "import string\n",
    "import random\n",
    "\n",
    "print (string.ascii_letters)\n",
    "print (string.digits)\n",
    "print (string.ascii_lowercase + string.digits)\n",
    "\n",
    "all_chars = string.ascii_lowercase + string.digits\n",
    "my_string = ' '.join ([random.choice (all_chars) for _ in range (30)])\n",
    "print (my_string) \n",
    "\n",
    "my_string = [random.choice (all_chars) for _ in range (30)]\n",
    "print (my_string)\n",
    "\n",
    "dic_count = {}\n",
    "for item in my_string:\n",
    "    dic_count [item] = dic_count.get (item, -1) + 1\n",
    "    if dic_count.get (item) > 0:\n",
    "        print (f'{item}_{dic_count.get (item)}', end =' ' )\n",
    "    else:\n",
    "        print (item, end = ' ')"
   ]
  },
  {
   "cell_type": "code",
   "execution_count": 12,
   "metadata": {},
   "outputs": [
    {
     "name": "stdout",
     "output_type": "stream",
     "text": [
      "She sells sea shells on the sea shore;The shells\n",
      "    that she sells are sea shells I'm sure.So if she sells sea\n",
      "    shells on the sea shore,I'm sure that the shells are sea\n",
      "    shore shells.\n",
      "['!', '\"', '#', '$', '%', '&', \"'\", '(', ')', '*', '+', ',', '-', '.', '/', ':', ';', '<', '=', '>', '?', '@', '[', '\\\\', ']', '^', '_', '`', '{', '|', '}', '~', '\\n', '\\t']\n",
      "She sells sea shells on the sea shore The shells     that she sells are sea shells I m sure So if she sells sea     shells on the sea shore I m sure that the shells are sea     shore shells \n",
      "['she', 'sells', 'sea', 'shells', 'on', 'the', 'sea', 'shore', 'the', 'shells', 'that', 'she', 'sells', 'are', 'sea', 'shells', 'i', 'm', 'sure', 'so', 'if', 'she', 'sells', 'sea', 'shells', 'on', 'the', 'sea', 'shore', 'i', 'm', 'sure', 'that', 'the', 'shells', 'are', 'sea', 'shore', 'shells']\n",
      "('she', 3)\n",
      "('sells', 3)\n",
      "('sea', 6)\n",
      "('shells', 6)\n",
      "('on', 2)\n",
      "('the', 4)\n",
      "('shore', 3)\n",
      "('that', 2)\n",
      "('are', 2)\n",
      "('i', 2)\n",
      "('m', 2)\n",
      "('sure', 2)\n",
      "('so', 1)\n",
      "('if', 1)\n",
      "14\n"
     ]
    }
   ],
   "source": [
    "# Семинар 4. Задача \n",
    "my_text = '''She sells sea shells on the sea shore;The shells\n",
    "    that she sells are sea shells I'm sure.So if she sells sea\n",
    "    shells on the sea shore,I'm sure that the shells are sea\n",
    "    shore shells.'''\n",
    "print (my_text)\n",
    "\n",
    "punct = list (string.punctuation) + ['\\n'] + ['\\t']\n",
    "print (punct)\n",
    "\n",
    "for char in punct:\n",
    "    my_text = my_text.replace (char, ' ')\n",
    "print (my_text)\n",
    "\n",
    "my_text = my_text.lower ().split ()\n",
    "print (my_text)\n",
    "\n",
    "dict_count = {}\n",
    "for key in my_text:\n",
    "    dict_count [key] = dict_count.get (key, 0)+ 1\n",
    "print (*dict_count.items (), sep = '\\n')\n",
    "\n",
    "print (len (set (dict_count)))"
   ]
  },
  {
   "cell_type": "code",
   "execution_count": 11,
   "metadata": {},
   "outputs": [
    {
     "name": "stdout",
     "output_type": "stream",
     "text": [
      "okaxgrzk gaywkbu peqxbss. axffje unuhj. pzgctri? jbttz lzmq, qppln xmbegd upjxc cgkwws fpuy. saolt usaktg vmedvtoh xnrugrwo mzbsbab yetzsxm\n"
     ]
    }
   ],
   "source": [
    "# Семинар 4.  Рандомные предложения из случайных элементов\n",
    "\n",
    "my_random_text = []\n",
    "for i in range (random.randint (10, 20)):\n",
    "    word = ''\n",
    "    for j in range (random.randint (4, 8)):\n",
    "        word += random.choice (string.ascii_lowercase)\n",
    "    my_random_text.append (word + str (random.choice (['.', ',', '!', '?']) if random.choice ([0,0,0,1]) else ''))\n",
    "print (' '.join (my_random_text))\n"
   ]
  }
 ],
 "metadata": {
  "kernelspec": {
   "display_name": "Python 3",
   "language": "python",
   "name": "python3"
  },
  "language_info": {
   "codemirror_mode": {
    "name": "ipython",
    "version": 3
   },
   "file_extension": ".py",
   "mimetype": "text/x-python",
   "name": "python",
   "nbconvert_exporter": "python",
   "pygments_lexer": "ipython3",
   "version": "3.9.6"
  }
 },
 "nbformat": 4,
 "nbformat_minor": 2
}
