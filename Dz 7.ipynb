{
 "cells": [
  {
   "cell_type": "code",
   "execution_count": null,
   "metadata": {},
   "outputs": [
    {
     "name": "stdout",
     "output_type": "stream",
     "text": [
      "[(5, 1), (1, 0), (10, 2), (4, 8), (0, 3), (10, 0), (9, 4), (2, 5), (3, 6), (6, 1), (3, 1), (7, 0), (0, 2), (9, 4), (7, 4)]\n",
      "[(5, 1), (1, 0), (10, 2), (4, 8), (0, 3), (10, 0), (9, 4), (2, 5), (3, 6), (6, 1), (3, 1), (7, 0), (0, 2), (9, 4), (7, 4)]\n",
      "36\n"
     ]
    }
   ],
   "source": [
    "# Семинар 7. Задача 49\n",
    "import random\n",
    "\n",
    "planets = [(random.randint (0, 10), random.randint (0, 10)) for _ in range (15)]\n",
    "print (planets) \n",
    "\n",
    "ellipse = list (filter (lambda x: x[0] != x[1], planets))\n",
    "print (ellipse)\n",
    "\n",
    "find_orbit = list (map (lambda x: x[0] * x[1], ellipse))\n",
    "print (max (find_orbit))\n"
   ]
  },
  {
   "cell_type": "code",
   "execution_count": 110,
   "metadata": {},
   "outputs": [
    {
     "name": "stdout",
     "output_type": "stream",
     "text": [
      "пара-ра-рам рам-пам-папам па-ра-па-да\n",
      "-а-а--а--а- -а---а---а-а- -а--а--а--а\n",
      "аааа аааа аааа\n",
      "['аааа', 'аааа', 'аааа']\n",
      "[4, 4, 4]\n",
      "Парам пам-пам\n"
     ]
    }
   ],
   "source": [
    "'''Задача 34: Винни-Пух попросил Вас посмотреть, есть ли в его стихах ритм. Поскольку\n",
    "разобраться в его кричалках не настолько просто, насколько легко он их придумывает, Вам\n",
    "стоит написать программу. Винни-Пух считает, что ритм есть, если число слогов (т.е. число\n",
    "гласных букв) в каждой фразе стихотворения одинаковое. Фраза может состоять из одного\n",
    "слова, если во фразе несколько слов, то они разделяются дефисами. Фразы отделяются друг\n",
    "от друга пробелами. Стихотворение Винни-Пух вбивает в программу с клавиатуры. В ответе\n",
    "напишите “Парам пам-пам”, если с ритмом все в порядке и “Пам парам”, если с ритмом все не\n",
    "в порядке.\n",
    "пара-ра-рам рам-пам-папам па-ра-па-да'''\n",
    "\n",
    "str = input ('Введите стих: ')\n",
    "print (str)\n",
    "\n",
    "no = ''.maketrans('прмд', '----')\n",
    "str = str.translate (no)\n",
    "print (str)\n",
    "str = str.replace('-', '')\n",
    "print (str)\n",
    "str = str.split(' ')\n",
    "print (str)\n",
    "count_list = list (map (lambda x: x.count('а'), str))\n",
    "print (count_list)\n",
    "count = 0\n",
    "for i in range (len (count_list)):\n",
    "    if count_list [(i - 1) % len (count_list)] == count_list [i % len (count_list)]:\n",
    "        count += 1\n",
    "\n",
    "if count == len (count_list):\n",
    "    print ('Парам пам-пам')\n",
    "else:\n",
    "    print ('Пам парам')\n"
   ]
  },
  {
   "cell_type": "code",
   "execution_count": 128,
   "metadata": {},
   "outputs": [
    {
     "name": "stdout",
     "output_type": "stream",
     "text": [
      "1 2 3 4 5 6 \n",
      "2 4 6 8 10 12 \n",
      "3 6 9 12 15 18 \n",
      "4 8 12 16 20 24 \n",
      "5 10 15 20 25 30 \n",
      "6 12 18 24 30 36 \n"
     ]
    }
   ],
   "source": [
    "'''Задача 36: Напишите функцию print_operation_table(operation, num_rows=6, num_columns=6),\n",
    "которая принимает в качестве аргумента функцию, вычисляющую элемент по номеру строки и\n",
    "столбца. Аргументы num_rows и num_columns указывают число строк и столбцов таблицы,\n",
    "которые должны быть распечатаны. Нумерация строк и столбцов идет с единицы (подумайте,\n",
    "почему не с нуля). Примечание: бинарной операцией называется любая операция, у которой\n",
    "ровно два аргумента, как, например, у операции умножения.'''\n",
    "\n",
    "def print_operation_table (operation, num_rows, num_columns):\n",
    "    for i in range (num_columns):\n",
    "        i += 1\n",
    "        for j in range (num_rows):\n",
    "            j += 1\n",
    "            print (i * j, end = ' ')\n",
    "        print ()\n",
    "\n",
    "print_operation_table (lambda x, y: x * y, 6, 6)"
   ]
  }
 ],
 "metadata": {
  "kernelspec": {
   "display_name": "Python 3",
   "language": "python",
   "name": "python3"
  },
  "language_info": {
   "codemirror_mode": {
    "name": "ipython",
    "version": 3
   },
   "file_extension": ".py",
   "mimetype": "text/x-python",
   "name": "python",
   "nbconvert_exporter": "python",
   "pygments_lexer": "ipython3",
   "version": "3.9.6"
  },
  "orig_nbformat": 4
 },
 "nbformat": 4,
 "nbformat_minor": 2
}
