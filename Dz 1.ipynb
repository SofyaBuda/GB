{
 "cells": [
  {
   "cell_type": "code",
   "execution_count": 10,
   "metadata": {},
   "outputs": [
    {
     "name": "stdout",
     "output_type": "stream",
     "text": [
      "1\n"
     ]
    }
   ],
   "source": [
    "# Задача 2: Найдите сумму цифр трехзначного числа.\n",
    "# Так как семинар про циклы следует далее, то пока линейный алгоритм\n",
    "num = int (input(\"Введите трехзначное число: \"))\n",
    "sum = 0\n",
    "elem = num % 10\n",
    "sum = sum + elem\n",
    "num = num // 10\n",
    "\n",
    "elem = num % 10\n",
    "sum = sum + elem\n",
    "num = num // 10\n",
    "\n",
    "elem = num % 10\n",
    "sum = sum + elem\n",
    "print (sum)"
   ]
  },
  {
   "cell_type": "code",
   "execution_count": 1,
   "metadata": {},
   "outputs": [
    {
     "name": "stdout",
     "output_type": "stream",
     "text": [
      "6\n"
     ]
    }
   ],
   "source": [
    "num = 123\n",
    "sum = 0\n",
    "\n",
    "sum += num %10\n",
    "sum += num //10 %10\n",
    "sum += num //100 %10\n",
    "print (sum)"
   ]
  },
  {
   "cell_type": "code",
   "execution_count": 18,
   "metadata": {},
   "outputs": [
    {
     "name": "stdout",
     "output_type": "stream",
     "text": [
      "Катя сделала 4 журавлей. Петя и Сережа по 1.\n"
     ]
    }
   ],
   "source": [
    "''' Задача 4: Петя, Катя и Сережа делают из бумаги журавликов. Вместе\n",
    "они сделали S журавликов. Сколько журавликов сделал каждый\n",
    "ребенок, если известно, что Петя и Сережа сделали одинаковое\n",
    "количество журавликов, а Катя сделала в два раза больше журавликов,\n",
    "чем Петя и Сережа вместе? \n",
    "'''\n",
    "sum = int (input(\"Введите общее количество журавликов: \"))\n",
    "Kate = int (sum * 4 / 6)\n",
    "Peter = int (sum / 6)\n",
    "Serge = Peter\n",
    "print (\"Катя сделала {} журавлей. Петя и Сережа по {}.\" .format(Kate, Peter, Serge))"
   ]
  },
  {
   "cell_type": "code",
   "execution_count": 17,
   "metadata": {},
   "outputs": [
    {
     "name": "stdout",
     "output_type": "stream",
     "text": [
      "123321   6   6\n",
      "yes\n"
     ]
    }
   ],
   "source": [
    "''' Задача 6: Вы пользуетесь общественным транспортом? Вероятно, вы\n",
    "расплачивались за проезд и получали билет с номером. Счастливым\n",
    "билетом называют такой билет с шестизначным номером, где сумма\n",
    "первых трех цифр равна сумме последних трех. Т.е. билет с номером\n",
    "385916 – счастливый, т.к. 3+8+5=9+1+6. Вам требуется написать\n",
    "программу, которая проверяет счастливость билета. '''\n",
    "# Так как семинар про циклы следует далее, то пока линейный алгоритм\n",
    "\n",
    "num = int (input(\"Введите шестизначный номер билета: \"))\n",
    "\n",
    "sum1 = num % 10  + (num // 10) % 10 + (num // 100) % 10 \n",
    "sum2 = (num // 1000) % 10 + (num // 10000) % 10 + (num // 100000) % 10\n",
    "print (num, ' ', sum1, ' ', sum2)\n",
    "if sum1 == sum2:\n",
    "    print ('yes')\n",
    "else:\n",
    "    print (\"no\")"
   ]
  },
  {
   "cell_type": "code",
   "execution_count": 7,
   "metadata": {},
   "outputs": [
    {
     "name": "stdout",
     "output_type": "stream",
     "text": [
      "yes\n"
     ]
    }
   ],
   "source": [
    "num = input(\"Введите шестизначный номер билета: \")\n",
    "\n",
    "if len(num) == 6:\n",
    "    sum1 = int (num [0]) + int (num [1]) + int (num [2])\n",
    "    sum2 = int (num [3]) + int (num [4]) + int (num [5])\n",
    "    if sum1 == sum2:\n",
    "        print ('yes')\n",
    "    else:\n",
    "        print ('no')\n",
    "else:\n",
    "    print ('Должно быть 6 цифр')\n",
    "    "
   ]
  },
  {
   "cell_type": "code",
   "execution_count": 2,
   "metadata": {},
   "outputs": [
    {
     "name": "stdout",
     "output_type": "stream",
     "text": [
      "yes\n"
     ]
    }
   ],
   "source": [
    "''' Задача 8: Требуется определить, можно ли от шоколадки размером n\n",
    "× m долек отломить k долек, если разрешается сделать один разлом по\n",
    "прямой между дольками (то есть разломить шоколадку на два\n",
    "прямоугольника). \n",
    "'''\n",
    "n = int (input(\"Введите длину шоколадки в дольках: \"))\n",
    "m = int (input(\"Введите ширину шоколадки в дольках: \"))\n",
    "k = int (input(\"Сколько долек хотите отломить: \"))\n",
    "if k % n == 0 or k % m == 0:\n",
    "    print('yes')\n",
    "else:\n",
    "    print(\"no\")"
   ]
  }
 ],
 "metadata": {
  "kernelspec": {
   "display_name": "Python 3",
   "language": "python",
   "name": "python3"
  },
  "language_info": {
   "codemirror_mode": {
    "name": "ipython",
    "version": 3
   },
   "file_extension": ".py",
   "mimetype": "text/x-python",
   "name": "python",
   "nbconvert_exporter": "python",
   "pygments_lexer": "ipython3",
   "version": "3.9.6"
  },
  "orig_nbformat": 4,
  "vscode": {
   "interpreter": {
    "hash": "ba21be89620e04870262143288bfa42d6558efc89d3b7b7a2c9e61153678bf59"
   }
  }
 },
 "nbformat": 4,
 "nbformat_minor": 2
}
