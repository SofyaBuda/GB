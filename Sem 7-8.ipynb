{
 "cells": [
  {
   "cell_type": "code",
   "execution_count": 6,
   "metadata": {},
   "outputs": [
    {
     "name": "stdout",
     "output_type": "stream",
     "text": [
      "1234567890\n",
      "['1', '2', '3', '4', '5', '6', '7', '8', '9', '0']\n",
      "[1, 2, 3, 4, 5, 6, 7, 8, 9, 0]\n",
      "(1, 2, 3, 4, 5, 6, 7, 8, 9, 0)\n",
      "{0, 1, 2, 3, 4, 5, 6, 7, 8, 9}\n",
      "45\n"
     ]
    }
   ],
   "source": [
    "# map    применяет функцию ко всем элементам коллекции и записывает в новую (эту) коллекцию\n",
    "\n",
    "my_list = '1234567890'\n",
    "print (my_list)\n",
    "\n",
    "my_list = list (my_list)\n",
    "print (my_list)\n",
    "\n",
    "for i in range (len (my_list)):\n",
    "    my_list [i] = int (my_list [i])\n",
    "print (my_list)\n",
    "\n",
    "my_list = tuple (map (int, my_list))\n",
    "print (my_list)\n",
    "\n",
    "my_list = set (map (int, my_list))\n",
    "print (my_list)\n",
    "\n",
    "print (sum (my_list))\n"
   ]
  },
  {
   "cell_type": "code",
   "execution_count": 31,
   "metadata": {},
   "outputs": [
    {
     "name": "stdout",
     "output_type": "stream",
     "text": [
      "[1, 2, 3, 4, 5, 6, 7, 8, 9, 0]\n",
      "[1, 4, 9, 16, 25, 36, 49, 64, 81, 0]\n",
      "[False, False, False, False, True, False, False, False, False, False]\n",
      "[2, 4, 6, 8, 0]\n"
     ]
    }
   ],
   "source": [
    "# lambda     Заменяет простую функцию. На место х, то что после : надо вернуть.\n",
    "\n",
    "my_list = '1234567890'\n",
    "\n",
    "my_list = list (map (int, my_list))\n",
    "print (my_list)\n",
    "\n",
    "new_list = list (map (lambda x: x**2, my_list))\n",
    "print (new_list)\n",
    "\n",
    "new_list = list (map (lambda x: x == 5, my_list))\n",
    "print (new_list)\n",
    "\n",
    "new_list = list (filter (lambda x: x % 2 == 0, my_list))\n",
    "print (new_list)"
   ]
  },
  {
   "cell_type": "code",
   "execution_count": 35,
   "metadata": {},
   "outputs": [
    {
     "name": "stdout",
     "output_type": "stream",
     "text": [
      "['1', '2', '3', 'd', 'f', 'h', 'd', 'f', 'h', 'f', 'd', 'h', 'd', 'f', 'h', '4', '5', '6', 's', 'e', 'u', 'i', 'g', 's', 'g', '7', 'a', 'y', 'd', 'f', 'h', 'd', 'f', 'h', '8', '9', '0']\n",
      "['1', '2', '3', '4', '5', '6', '7', '8', '9', '0']\n",
      "['e', 'u', 'i', 'a', 'y']\n",
      "Слова палиндромы:  ['level', 'stats']\n"
     ]
    }
   ],
   "source": [
    "# filter    пропускает то, что удовлетворяет условию\n",
    "\n",
    "my_list = '123dfhdfhfdhdfh456seuigsg7aydfhdfh890'\n",
    "\n",
    "my_list = list (my_list)\n",
    "print (my_list)\n",
    "\n",
    "new_list = list (filter (lambda x: x.isdigit (), my_list))\n",
    "print (new_list)\n",
    "\n",
    "new_list2 = list (filter (lambda x: x in 'eoiuay', my_list))\n",
    "print (new_list2)\n",
    "\n",
    "word = [\"cat\", \"rewire\", \"level\", \"book\", \"stats\", \"list\"]\n",
    "palindromes = list(filter(lambda word: word == word[::-1], word))\n",
    "print(\"Слова палиндромы: \", list(palindromes))"
   ]
  },
  {
   "cell_type": "code",
   "execution_count": 34,
   "metadata": {},
   "outputs": [
    {
     "name": "stdout",
     "output_type": "stream",
     "text": [
      "[6, 47, 84, 57, 73, 29, 50, 77, 39, 3, 59, 40, 78, 53, 18]\n",
      "['j', 'h', 'j', 'h', 'i', 's', 'e', ' ', 'z', 'e', 'z', 'n', 'l', 'm', 'b', 'n', 'v', 'b', 'v', 'x']\n",
      "[(6, 'j'), (47, 'h'), (84, 'j'), (57, 'h'), (73, 'i'), (29, 's'), (50, 'e'), (77, ' '), (39, 'z'), (3, 'e'), (59, 'z'), (40, 'n'), (78, 'l'), (53, 'm'), (18, 'b')]\n"
     ]
    }
   ],
   "source": [
    "# zip    собирает по элементам коллекции в список кортежей\n",
    "\n",
    "import random\n",
    "\n",
    "rand_list = [random.randint (0, 100) for _ in range (15)]\n",
    "print (rand_list)\n",
    "\n",
    "letter_list = list ('jhjhise zeznlmbnvbvx')\n",
    "print (letter_list)\n",
    "\n",
    "new_list = list (zip (rand_list, letter_list))\n",
    "print (new_list)"
   ]
  },
  {
   "cell_type": "code",
   "execution_count": 9,
   "metadata": {},
   "outputs": [
    {
     "name": "stdout",
     "output_type": "stream",
     "text": [
      "[99, 57, 76, 55, 11, 32, 14, 28, 51, 70, 68, 32, 54, 53, 28]\n",
      "1 99\n",
      "2 57\n",
      "3 76\n",
      "4 55\n",
      "5 11\n",
      "6 32\n",
      "7 14\n",
      "8 28\n",
      "9 51\n",
      "10 70\n",
      "11 68\n",
      "12 32\n",
      "13 54\n",
      "14 53\n",
      "15 28\n"
     ]
    }
   ],
   "source": [
    "# enumerate     нумерует вместо range (len ())\n",
    "\n",
    "import random\n",
    "\n",
    "rand_list = [random.randint (0, 100) for _ in range (15)]\n",
    "print (rand_list)\n",
    "\n",
    "for i, item in enumerate (rand_list, 1):\n",
    "    print (i, item)"
   ]
  },
  {
   "cell_type": "code",
   "execution_count": 1,
   "metadata": {},
   "outputs": [
    {
     "name": "stdout",
     "output_type": "stream",
     "text": [
      "[(2, 3), (5, 8), (2, 4), (1, 9), (7, 7), (3, 1), (5, 6)]\n",
      "[(2, 3), (5, 8), (2, 4), (1, 9), (3, 1), (5, 6)]\n",
      "(5, 8)\n",
      "40\n"
     ]
    }
   ],
   "source": [
    "# Семинар 7. Задача 49\n",
    "'''Планеты вращаются вокруг звезд по эллиптическим орбитам.\n",
    "Назовем самой далекой планетой ту, орбита которой имеет\n",
    "самую большую площадь. Напишите функцию\n",
    "find_farthest_orbit(list_of_orbits), которая среди списка орбит\n",
    "планет найдет ту, по которой вращается самая далекая\n",
    "планета. Круговые орбиты не учитывайте: вы знаете, что у\n",
    "вашей звезды таких планет нет, зато искусственные спутники\n",
    "были были запущены на круговые орбиты. Результатом\n",
    "функции должен быть кортеж, содержащий длины полуосей\n",
    "эллипса орбиты самой далекой планеты. Каждая орбита\n",
    "представляет из себя кортеж из пары чисел - полуосей ее\n",
    "эллипса. Площадь эллипса вычисляется по формуле S = pi*a*b,\n",
    "где a и b - длины полуосей эллипса. При решении задачи\n",
    "используйте списочные выражения. Подсказка: проще всего\n",
    "будет найти эллипс в два шага: сначала вычислить самую\n",
    "большую площадь эллипса, а затем найти и сам эллипс,\n",
    "имеющий такую площадь. Гарантируется, что самая далекая\n",
    "планета ровно одна'''\n",
    "\n",
    "planets = [(2,3), (5,8), (2,4), (1,9), (7,7), (3,1), (5,6)]\n",
    "print (planets)\n",
    "\n",
    "ellipse = list (filter (lambda x: x[0] != x[1], planets))\n",
    "print (ellipse)\n",
    "\n",
    "find_orbit = list (map (lambda x: x[0] * x[1], ellipse))\n",
    "print (ellipse [find_orbit.index (max (find_orbit))])\n",
    "\n",
    "find_orbit = list (map (lambda x: x[0] * x[1], ellipse))\n",
    "print (max (find_orbit))"
   ]
  },
  {
   "cell_type": "code",
   "execution_count": 28,
   "metadata": {},
   "outputs": [
    {
     "name": "stdout",
     "output_type": "stream",
     "text": [
      "[(8, 0), (8, 5), (6, 3), (9, 1), (0, 4), (6, 10), (3, 4), (6, 5)]\n",
      "(6, 10)\n"
     ]
    }
   ],
   "source": [
    "# Семинар 7. Задача 49\n",
    "import random\n",
    "\n",
    "list_planets = [(random.randint (0, 10), random.randint (0, 10)) for _ in range (8)]\n",
    "print (list_planets)\n",
    "\n",
    "list_planets = list (filter (lambda x: x[0] != x[1], list_planets))\n",
    "max_index = max (list_planets, key = lambda x: x[0] * x[1])\n",
    "print (max_index)"
   ]
  },
  {
   "cell_type": "code",
   "execution_count": 4,
   "metadata": {},
   "outputs": [],
   "source": [
    "# file = open ('путь', 'r')     открыть для чтения\n",
    "# file = open ('путь', 'w')     открыть для записи\n",
    "# file = open ('путь', 'a')     открыть для добавления \n",
    "# data = file.read ()           метод файла копирует весь файл в переменную  \n",
    "# data = file.readline ()       построчно считывает и записывает в переменную\n",
    "# data = file.readlines ()      построчно записывает, каждая строка отдельный элемент списка\n",
    "# ''.strip ()                   очищает от знаков препинания\n",
    "# ''.split ()                   разъединить строку по ; на элементы"
   ]
  },
  {
   "cell_type": "code",
   "execution_count": 11,
   "metadata": {},
   "outputs": [
    {
     "name": "stdout",
     "output_type": "stream",
     "text": [
      "['Агафонов Гавриил;7134313541;виолончель\\n', 'Онисьев\\tДаниил;7313132132;мандалина\\n', 'Филаретова Ефима;7313131313;фортопиано\\n']\n",
      "[{'name': 'Агафонов Гавриил', 'phone': '7134313541', 'comment': 'виолончель'}, {'name': 'Онисьев\\tДаниил', 'phone': '7313132132', 'comment': 'мандалина'}, {'name': 'Филаретова Ефима', 'phone': '7313131313', 'comment': 'фортопиано'}]\n",
      "Агафонов Гавриил;7134313541;виолончель\n",
      "Онисьев\tДаниил;7313132132;мандалина\n",
      "Филаретова Ефима;7313131313;фортопиано\n",
      "Антон Пальчиков;684-344;эникей\n"
     ]
    }
   ],
   "source": [
    "phone_book = []         # глобальная переменная список.\n",
    "\n",
    "file = open ('PhoneBook.txt', 'r', encoding = 'UTF-8') \n",
    "data = file.readlines ()        # открываем файл в режиме построчной записи\n",
    "file.close ()                   # закрыть файл тогда изменения сохраняться\n",
    "print (data)\n",
    "\n",
    "# делаем словарь\n",
    "for contact in data:\n",
    "    new_contact = contact.strip (). split (';')         # строка\n",
    "    new_contact = {'name': new_contact [0],             # словарь\n",
    "                   'phone': new_contact [1],\n",
    "                   'comment': new_contact [2]}\n",
    "    phone_book.append (new_contact)                     # добавить контакт\n",
    "print (phone_book)\n",
    "\n",
    "# добавляем контакт в файл\n",
    "phone_book.append ({'name': 'Антон Пальчиков',\n",
    "                    'phone': '684-344',\n",
    "                    'comment': 'эникей'})\n",
    "new_phone_book = []                                     # создаем новый список  \n",
    "for contact in phone_book:                              # переводим в формат библиотеки  \n",
    "    new_contact = ';'.join ([values for values in contact.values ()])\n",
    "    new_phone_book.append (new_contact)\n",
    "new_phone_book = '\\n'.join (new_phone_book)             # разбить по строчкам\n",
    "print (new_phone_book)\n",
    "\n",
    "file = open ('PhoneBook.txt', 'w', encoding = 'UTF-8')\n",
    "file.write (new_phone_book)                             # записываем в файл новый контакт\n",
    "file.close ()\n",
    "\n",
    "# второй способ добавления контакта в файл\n",
    "cont = '\\nПорфирьев\tЕвдоким;544333;плаванье'\n",
    "file = open ('PhoneBook.txt', 'a', encoding = 'UTF-8')\n",
    "file.write (cont)\n",
    "file.close ()\n",
    "\n",
    "# третий способ добавления контакта в файл\n",
    "cont = '\\nАрхипова\tАгрипина;354543;звук.оператор'\n",
    "with open ('PhoneBook.txt', 'a', encoding = 'UTF-8') as file:\n",
    "    file.write (cont)\n"
   ]
  },
  {
   "cell_type": "code",
   "execution_count": null,
   "metadata": {},
   "outputs": [],
   "source": [
    "\n",
    "def add_cont ():\n",
    "    file = open ('PhoneBook.txt', 'a', encoding = 'UTF-8')\n",
    "    data1 = input ('Введите ФИО: ')\n",
    "    data2 = input ('Номер телефона: ')\n",
    "    data3 = input ('Комментарий: ')\n",
    "    data = '\\n' + data1 + ';' + data2 + ';' + data3\n",
    "    print (data)\n",
    "    file.write (data)\n",
    "    file.close ()\n",
    "\n",
    "def read_cont ():\n",
    "    file = open ('PhoneBook.txt', 'r', encoding = 'UTF-8')\n",
    "    data = file.readlines ()\n",
    "    file.close () \n",
    "    for contact in data:\n",
    "        print (contact)\n",
    "read_cont ()\n",
    "\n",
    "def find_cont ():\n",
    "    file = open ('PhoneBook.txt', 'r', encoding = 'UTF-8')\n",
    "    data = file.readlines ()\n",
    "    file.close () \n",
    "    search_cont = input ('Введите для поиска информации: ')\n",
    "    for cont in data:\n",
    "        if search_cont.lower () in cont.lower:\n",
    "            print (cont)\n",
    "find_cont ()\n",
    "\n",
    "def change_cont ():\n",
    "    file = open ('PhoneBook.txt', 'w', encoding = 'UTF-8')\n",
    "    data = file.readlines ()\n",
    "    file.close () \n",
    "    i = 0\n",
    "    for contact in data:\n",
    "        new_contact = contact.strip (). split (';')     # строка\n",
    "        new_contact = {'id': i,\n",
    "                    'name': new_contact [0],            # словарь\n",
    "                    'phone': new_contact [1],\n",
    "                    'comment': new_contact [2]}\n",
    "        phone_book.append (new_contact)                 # добавить контакт\n",
    "        i += 1                  \n",
    "    elem = ind (input ('Введите id: '))\n",
    "    print (phone_book [elem])\n",
    "\n",
    "change_cont ()\n",
    "\n",
    "\n"
   ]
  }
 ],
 "metadata": {
  "kernelspec": {
   "display_name": "Python 3",
   "language": "python",
   "name": "python3"
  },
  "language_info": {
   "codemirror_mode": {
    "name": "ipython",
    "version": 3
   },
   "file_extension": ".py",
   "mimetype": "text/x-python",
   "name": "python",
   "nbconvert_exporter": "python",
   "pygments_lexer": "ipython3",
   "version": "3.9.6"
  },
  "orig_nbformat": 4,
  "vscode": {
   "interpreter": {
    "hash": "ba21be89620e04870262143288bfa42d6558efc89d3b7b7a2c9e61153678bf59"
   }
  }
 },
 "nbformat": 4,
 "nbformat_minor": 2
}
