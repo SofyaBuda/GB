{
 "cells": [
  {
   "cell_type": "code",
   "execution_count": 31,
   "metadata": {},
   "outputs": [
    {
     "name": "stdout",
     "output_type": "stream",
     "text": [
      "1 0 0 0 0 1 0 0 0 0 1 1 0 1 0 0 0 0 0 0 0 1 1 1 0 0 0 1 0 1 0 0 0 0 0 0 0 0 0 1 1 1 0 0 1 0 0 1 0 1 0 0 1 0 0 0 1 1 1 0 1 0 1 1 0 \n",
      "Надо перевернуть минимум  23 монетки\n"
     ]
    }
   ],
   "source": [
    "# Задача 10\n",
    "count = int (input (\"Количество монеток: \"))\n",
    "i, j = 0, 0\n",
    "for _ in range (count):\n",
    "    from random import randint\n",
    "    money = randint(0,1)\n",
    "    print (money, end = ' ')\n",
    "    if money == 0:\n",
    "        i += 1\n",
    "    if money == 1:\n",
    "        j += 1\n",
    "print ('')        \n",
    "print ('Надо перевернуть минимум ', end = ' ')        \n",
    "if i <= j:\n",
    "    print (i, end = ' ')\n",
    "else:\n",
    "    print (j, end = ' ')\n",
    "if i == 1 or j == 1 or i % 10 == 1 or j % 10 == 1:\n",
    "    print ('монетку')\n",
    "elif 2 <= i <= 4  or 2 <= j <= 4 or 2 <= i % 10 <= 4  or 2 <= j % 10 <= 4:\n",
    "    print ('монетки')\n",
    "else:\n",
    "    print ('монет')"
   ]
  },
  {
   "cell_type": "code",
   "execution_count": 44,
   "metadata": {},
   "outputs": [
    {
     "name": "stdout",
     "output_type": "stream",
     "text": [
      "сумма =  1490  произведение =  551425\n",
      "числа 685 и 805\n"
     ]
    }
   ],
   "source": [
    "# Задача 12\n",
    "from random import randint\n",
    "num = randint(1,1000)\n",
    "num2 = randint(1,1000)\n",
    "sum = num + num2\n",
    "multy = num * num2\n",
    "print ('сумма = ',sum,' произведение = ',multy)\n",
    "for n in range(1000):\n",
    "    m = sum - n\n",
    "    if n * m == multy:\n",
    "        break\n",
    "print ('числа',n,'и',m)"
   ]
  },
  {
   "cell_type": "code",
   "execution_count": 35,
   "metadata": {},
   "outputs": [
    {
     "name": "stdout",
     "output_type": "stream",
     "text": [
      "2 4 8 16 32 64 128  <= 129 \n"
     ]
    }
   ],
   "source": [
    "# Задача 14\n",
    "count = int (input (\"Введите число: \"))\n",
    "i, num = 1, 2 \n",
    "while num <= count:\n",
    "    print (num, end = \" \")  \n",
    "    i += 1\n",
    "    num = num * 2 \n",
    "print (f\" <= {count} \")"
   ]
  }
 ],
 "metadata": {
  "kernelspec": {
   "display_name": "Python 3",
   "language": "python",
   "name": "python3"
  },
  "language_info": {
   "codemirror_mode": {
    "name": "ipython",
    "version": 3
   },
   "file_extension": ".py",
   "mimetype": "text/x-python",
   "name": "python",
   "nbconvert_exporter": "python",
   "pygments_lexer": "ipython3",
   "version": "3.9.6"
  },
  "orig_nbformat": 4
 },
 "nbformat": 4,
 "nbformat_minor": 2
}
