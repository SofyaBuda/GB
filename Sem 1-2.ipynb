{
 "cells": [
  {
   "cell_type": "code",
   "execution_count": null,
   "metadata": {},
   "outputs": [],
   "source": [
    "# Cеминар 1. Задача 1\n",
    "\n",
    "i = int(input('Введите i '))\n",
    "j = int(input('Введите j '))\n",
    "if i != j:\n",
    "print(f'Количество вагонов в электричке {(i+j-1)}')\n",
    "else:\n",
    "print('Без дополнительной информации определить количество вагонов невозможно')"
   ]
  },
  {
   "cell_type": "code",
   "execution_count": null,
   "metadata": {},
   "outputs": [],
   "source": [
    "# Cеминар 1. Задача 3\n",
    "\n",
    "klass_one = int(input('Введите число в первом классе: '))\n",
    "klass_two = int(input('Введите число во втором классе: '))\n",
    "klass_three = int(input('Введите число в третьем классе: '))\n",
    "summ = (klass_two+1)//2 + (klass_one+1)//2 + (klass_three+1)//2\n",
    "print(f'Всего необходимо парт {summ}')"
   ]
  },
  {
   "cell_type": "code",
   "execution_count": null,
   "metadata": {},
   "outputs": [],
   "source": [
    "# Cеминар 1. Задача 5\n",
    "\n",
    "i = int(input('Введите i '))\n",
    "j = int(input('Введите j '))\n",
    "if i != j:\n",
    "    print(f'Количество вагонов в электричке {(i+j-1)}')\n",
    "else:\n",
    "    print('Без дополнительной информации определить количество вагонов невозможно')"
   ]
  },
  {
   "cell_type": "code",
   "execution_count": 1,
   "metadata": {},
   "outputs": [
    {
     "name": "stdout",
     "output_type": "stream",
     "text": [
      "120\n"
     ]
    }
   ],
   "source": [
    "# Cеминар 2. Задача \n",
    "\n",
    "while True:\n",
    "    number = input ('Введите число: ')\n",
    "    if number.isdigit ():\n",
    "        number = abs (int (number))\n",
    "        break\n",
    "    else:\n",
    "        print ('Введите целое число')\n",
    "        \n",
    "factorial = 1\n",
    "while number > 1:\n",
    "    factorial *= number\n",
    "    number -= 1\n",
    "print (factorial)\n",
    "    "
   ]
  },
  {
   "cell_type": "code",
   "execution_count": 18,
   "metadata": {},
   "outputs": [
    {
     "name": "stdout",
     "output_type": "stream",
     "text": [
      "-1\n"
     ]
    }
   ],
   "source": [
    "# Cеминар 2. Задача \n",
    "'''Дано натуральное число A > 1. Определите, каким по счету числом Фибоначчи оно является, \n",
    "то есть выведите такое число n, что φ(n)=A. Если А не является числом Фибоначчи, выведите число -1.'''\n",
    "\n",
    "number = int (input ('Введите число: '))\n",
    "fibo1, fibo2, index = 0, 1, 1\n",
    "while fibo2 < number:\n",
    "    fibo1, fibo2 = fibo2, fibo1 + fibo2\n",
    "index += 1\n",
    "if fibo2 == number:\n",
    "    print (index)\n",
    "else:\n",
    "    print (-1)"
   ]
  },
  {
   "cell_type": "code",
   "execution_count": 20,
   "metadata": {},
   "outputs": [
    {
     "name": "stdout",
     "output_type": "stream",
     "text": [
      "29501 19446 19083 5635 24097 \n",
      "Себе 24097кг, а теще 24097кг\n"
     ]
    }
   ],
   "source": [
    "# Cеминар 2. Задача \n",
    "'''Иван Васильевич пришел на рынок и решил купить два арбуза: один для себя, а другой для тещи. Понятно, \n",
    "что для себя нужно выбрать арбуз потяжелей, а для тещи полегче. Но вот незадача: арбузов слишком много и \n",
    "он не знает как же выбрать самый легкий и самый тяжелый арбуз? Помогите ему!\n",
    "Пользователь вводит одно число N – количество арбузов. Вторая строка содержит N чисел, записанных на новой \n",
    "строчке каждое. Здесь каждое число – это масса соответствующего арбуза. Все числа натуральные и не превышают 30000.'''\n",
    "\n",
    "from random import randint\n",
    "count = int(input('Введите количество арбузов: '))\n",
    "\n",
    "min_weight = 30000\n",
    "max_weight = 1000\n",
    "for _ in range(count):\n",
    "    current_weight = randint(1000, 30000)\n",
    "    print(current_weight, end=' ')\n",
    "    \n",
    "if min_weight > current_weight:\n",
    "    min_weight = current_weight\n",
    "if max_weight < current_weight:\n",
    "    max_weight = current_weight\n",
    "print(f'\\nСебе {max_weight}кг, а теще {min_weight}кг')"
   ]
  },
  {
   "cell_type": "code",
   "execution_count": 23,
   "metadata": {},
   "outputs": [
    {
     "name": "stdout",
     "output_type": "stream",
     "text": [
      "0 -2 -4 -5 -3 -2 -3 -2 -3 -3 -1 -4 \n",
      "Cамая долгая оттепель была 0 дней\n"
     ]
    }
   ],
   "source": [
    "# Cеминар 2. Задача \n",
    "'''Уставшие от необычно теплой зимы, жители решили узнать, действительно ли это \n",
    "самая длинная оттепель за всю историю наблюдений за погодой. Они обратились к синоптикам, \n",
    "а те, в свою очередь, занялись исследованиями статистики за прошлые годы. Их интересует, \n",
    "сколько дней длилась самая длинная оттепель. Оттепелью они называют период, в который \n",
    "среднесуточная температура ежедневно превышала 0 градусов Цельсия. Напишите программу, \n",
    "помогающую синоптикам в работе.'''\n",
    "\n",
    "import random\n",
    "\n",
    "days = int (input ('Введите количество дней: '))\n",
    "today = 0\n",
    "warm_count = 0\n",
    "max_warm = 0\n",
    "\n",
    "for _ in range (days):\n",
    "    today += random.randint (-3,3)\n",
    "    print (today, end = ' ')\n",
    "    if today > 0:\n",
    "        warm_count += 1\n",
    "    else:\n",
    "        if max_warm < warm_count:\n",
    "            max_warm = warm_count\n",
    "        warm_count = 0\n",
    "else:\n",
    "    if max_warm < warm_count:\n",
    "        max_warm < warm_count\n",
    "    warm_count = 0\n",
    "print (f'\\nCамая долгая оттепель была {max_warm} дней') \n",
    "    \n",
    "        "
   ]
  }
 ],
 "metadata": {
  "kernelspec": {
   "display_name": "Python 3",
   "language": "python",
   "name": "python3"
  },
  "language_info": {
   "codemirror_mode": {
    "name": "ipython",
    "version": 3
   },
   "file_extension": ".py",
   "mimetype": "text/x-python",
   "name": "python",
   "nbconvert_exporter": "python",
   "pygments_lexer": "ipython3",
   "version": "3.9.6"
  },
  "orig_nbformat": 4
 },
 "nbformat": 4,
 "nbformat_minor": 2
}
